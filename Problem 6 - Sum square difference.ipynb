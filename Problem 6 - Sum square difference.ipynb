{
 "cells": [
  {
   "cell_type": "markdown",
   "metadata": {},
   "source": [
    "The sum of the squares of the first ten natural numbers is,\n",
    "$$1^2 + 2^2 + ... + 10^2 = 385$$\n",
    "\n",
    "The square of the sum of the first ten natural numbers is,\n",
    "$$(1 + 2 + ... + 10)^2 = 55^2 = 3025$$\n",
    "\n",
    "Hence the difference between the sum of the squares of the first ten natural numbers and the square of the sum is $3025 - 385 = 2640$.\n",
    "\n",
    "Find the difference between the sum of the squares of the first one hundred natural numbers and the square of the sum."
   ]
  },
  {
   "cell_type": "code",
   "execution_count": 3,
   "metadata": {},
   "outputs": [],
   "source": [
    "#Easy enough\n",
    "\n",
    "def sumofsquares(L):\n",
    "    sum = 0\n",
    "    for i in L:\n",
    "        j = i**2\n",
    "        sum += j\n",
    "    return sum\n",
    "\n",
    "def squareofsum(L):\n",
    "    sum = 0\n",
    "    for i in L:\n",
    "        sum += i\n",
    "    j = sum**2\n",
    "    return j"
   ]
  },
  {
   "cell_type": "code",
   "execution_count": 4,
   "metadata": {},
   "outputs": [],
   "source": [
    "def difference():\n",
    "    L = []\n",
    "    for i in range(1,101): L.append(i)\n",
    "    return (squareofsum(L) - sumofsquares(L))"
   ]
  },
  {
   "cell_type": "code",
   "execution_count": 5,
   "metadata": {},
   "outputs": [
    {
     "name": "stdout",
     "output_type": "stream",
     "text": [
      "CPU times: user 36 µs, sys: 0 ns, total: 36 µs\n",
      "Wall time: 38.4 µs\n"
     ]
    },
    {
     "data": {
      "text/plain": [
       "25164150"
      ]
     },
     "execution_count": 5,
     "metadata": {},
     "output_type": "execute_result"
    }
   ],
   "source": [
    "time(difference())"
   ]
  }
 ],
 "metadata": {
  "kernelspec": {
   "display_name": "Python 3",
   "language": "python",
   "name": "python3"
  },
  "language_info": {
   "codemirror_mode": {
    "name": "ipython",
    "version": 3
   },
   "file_extension": ".py",
   "mimetype": "text/x-python",
   "name": "python",
   "nbconvert_exporter": "python",
   "pygments_lexer": "ipython3",
   "version": "3.8.6"
  }
 },
 "nbformat": 4,
 "nbformat_minor": 4
}
