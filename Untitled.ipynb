{
 "cells": [
  {
   "cell_type": "code",
   "execution_count": 3,
   "metadata": {},
   "outputs": [
    {
     "name": "stdout",
     "output_type": "stream",
     "text": [
      "Welcome to Sage 9.1!\n",
      "\n",
      "To view the Sage tutorial in your web browser, type \"tutorial()\", and\n",
      "to view the (very detailed) Sage reference manual, type \"manual()\".\n",
      "For help on any Sage function, for example \"matrix_plot\", type\n",
      "\"matrix_plot?\" to see a help message, type \"help(matrix_plot)\" to see\n",
      "a very similar message, type \"browse_sage_doc(matrix_plot)\" to view a\n",
      "help message in a web browser, and type \"matrix_plot??\" to look at the\n",
      "function's source code.\n",
      "\n",
      "(When you type something like \"matrix_plot?\", \"help(matrix_plot)\", or\n",
      "\"matrix_plot??\", Sage may start a paging program to display the\n",
      "requested message. Type a space to scroll to the next page, type \"h\"\n",
      "to get help on the paging program, and type \"q\" to quit it and return\n",
      "to the \"sage:\" prompt.)\n",
      "\n",
      "For license information for Sage and its components, read the file\n",
      "\"COPYING.txt\" in the top-level directory of the Sage installation,\n",
      "or type \"license()\".\n",
      "\n",
      "To enter Python's interactive online help utility, type \"python_help()\".\n",
      "To get help on a Python function, module or package, type \"help(MODULE)\" or\n",
      "\"python_help(MODULE)\".\n"
     ]
    }
   ],
   "source": [
    "help()\n"
   ]
  },
  {
   "cell_type": "code",
   "execution_count": 6,
   "metadata": {},
   "outputs": [
    {
     "data": {
      "text/plain": [
       "1"
      ]
     },
     "execution_count": 6,
     "metadata": {},
     "output_type": "execute_result"
    }
   ],
   "source": [
    "8597234025249850348849 % 9"
   ]
  },
  {
   "cell_type": "code",
   "execution_count": 5,
   "metadata": {},
   "outputs": [
    {
     "data": {
      "text/plain": [
       "0"
      ]
     },
     "execution_count": 5,
     "metadata": {},
     "output_type": "execute_result"
    }
   ],
   "source": [
    "3923508230198430293823 % 3"
   ]
  },
  {
   "cell_type": "code",
   "execution_count": 24,
   "metadata": {},
   "outputs": [
    {
     "data": {
      "text/plain": [
       "1"
      ]
     },
     "execution_count": 24,
     "metadata": {},
     "output_type": "execute_result"
    }
   ],
   "source": [
    "8597234025249850348849 % 9"
   ]
  },
  {
   "cell_type": "code",
   "execution_count": 20,
   "metadata": {},
   "outputs": [],
   "source": [
    "import sympy as sp\n",
    "import numpy as np"
   ]
  },
  {
   "cell_type": "code",
   "execution_count": 21,
   "metadata": {},
   "outputs": [],
   "source": [
    "f = np.sin"
   ]
  },
  {
   "cell_type": "code",
   "execution_count": 22,
   "metadata": {},
   "outputs": [
    {
     "data": {
      "text/plain": [
       "0.0"
      ]
     },
     "execution_count": 22,
     "metadata": {},
     "output_type": "execute_result"
    }
   ],
   "source": [
    "f(0)"
   ]
  },
  {
   "cell_type": "code",
   "execution_count": null,
   "metadata": {},
   "outputs": [],
   "source": []
  }
 ],
 "metadata": {
  "kernelspec": {
   "display_name": "Python 3",
   "language": "python",
   "name": "python3"
  },
  "language_info": {
   "codemirror_mode": {
    "name": "ipython",
    "version": 3
   },
   "file_extension": ".py",
   "mimetype": "text/x-python",
   "name": "python",
   "nbconvert_exporter": "python",
   "pygments_lexer": "ipython3",
   "version": "3.8.6"
  }
 },
 "nbformat": 4,
 "nbformat_minor": 4
}
